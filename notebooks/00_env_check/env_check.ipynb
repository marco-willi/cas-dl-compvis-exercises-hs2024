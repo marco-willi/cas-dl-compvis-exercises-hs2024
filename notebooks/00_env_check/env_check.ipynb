{
 "cells": [
  {
   "cell_type": "code",
   "execution_count": null,
   "id": "023f259e-6eb2-44ca-97eb-583122c70572",
   "metadata": {
    "nbgrader": {
     "grade": false,
     "grade_id": "load",
     "locked": true,
     "schema_version": 3,
     "solution": false,
     "task": false
    },
    "tags": []
   },
   "outputs": [],
   "source": [
    "%load_ext autoreload\n",
    "%autoreload 2\n",
    "%matplotlib inline\n",
    "\n",
    "from IPython.core.interactiveshell import InteractiveShell\n",
    "\n",
    "InteractiveShell.ast_node_interactivity = \"all\"\n",
    "\n",
    "try:\n",
    "    import jupyter_black\n",
    "\n",
    "    jupyter_black.load()\n",
    "except:\n",
    "    print(\"black not installed\")"
   ]
  },
  {
   "cell_type": "markdown",
   "id": "0e420152",
   "metadata": {
    "nbgrader": {
     "grade": false,
     "grade_id": "header",
     "locked": true,
     "schema_version": 3,
     "solution": false,
     "task": false
    },
    "tags": []
   },
   "source": [
    "# Environment / Setup Check\n",
    "\n",
    "This notebook is for checking your environment setup.\n",
    "\n",
    "You can execute this within Google Colab or your own environment.\n",
    "\n",
    "Just run the notebook to verify the environment.\n"
   ]
  },
  {
   "cell_type": "markdown",
   "id": "8227f2c8",
   "metadata": {
    "nbgrader": {
     "grade": false,
     "grade_id": "cell-d36f1df224ab279c",
     "locked": true,
     "schema_version": 3,
     "solution": false,
     "task": false
    }
   },
   "source": [
    "## Google Colab Check\n"
   ]
  },
  {
   "cell_type": "code",
   "execution_count": null,
   "id": "6eb01fc4",
   "metadata": {
    "nbgrader": {
     "grade": false,
     "grade_id": "cell-42cfd4cc5c371de6",
     "locked": true,
     "schema_version": 3,
     "solution": false,
     "task": false
    }
   },
   "outputs": [],
   "source": [
    "try:\n",
    "    import google.colab\n",
    "\n",
    "    IN_COLAB = True\n",
    "except:\n",
    "    IN_COLAB = False\n",
    "\n",
    "print(f\"In colab: {IN_COLAB}\")"
   ]
  },
  {
   "cell_type": "code",
   "execution_count": null,
   "id": "205687c8",
   "metadata": {
    "nbgrader": {
     "grade": false,
     "grade_id": "cell-299dff08066dbe83",
     "locked": true,
     "schema_version": 3,
     "solution": false,
     "task": false
    }
   },
   "outputs": [],
   "source": [
    "if IN_COLAB:\n",
    "    from google.colab import drive\n",
    "\n",
    "    drive.mount(\"/content/drive\")"
   ]
  },
  {
   "cell_type": "markdown",
   "id": "3ec1401f",
   "metadata": {
    "nbgrader": {
     "grade": false,
     "grade_id": "cell-7724562a9d60e03f",
     "locked": true,
     "schema_version": 3,
     "solution": false,
     "task": false
    }
   },
   "source": [
    "Modify the following path to ensure data is stored at the correct location."
   ]
  },
  {
   "cell_type": "code",
   "execution_count": null,
   "id": "a1a4b94f",
   "metadata": {
    "nbgrader": {
     "grade": false,
     "grade_id": "cell-747b2a9933f70ee5",
     "locked": true,
     "schema_version": 3,
     "solution": false,
     "task": false
    }
   },
   "outputs": [],
   "source": [
    "from pathlib import Path\n",
    "\n",
    "if IN_COLAB:\n",
    "    DATA_PATH = Path(\"/content/drive/MyDrive/cas-dl-module-compvis-part1\")\n",
    "else:\n",
    "    DATA_PATH = Path(\"../../data\")"
   ]
  },
  {
   "cell_type": "markdown",
   "id": "b54b66d2-10a2-479c-a972-b82e7aceebad",
   "metadata": {},
   "source": [
    "Install `dl_cv_lectures` package with all necessary dependencies.\n",
    "\n",
    "This package provides the environment of the exercises-repository, as well as helper- and utils modules: [Link](https://github.com/marco-willi/cas-dl-compvis-exercises-hs2024)\n",
    "\n",
    "The following code installs the package from a local repository (if available), otherwise it installs it from the exercise repository."
   ]
  },
  {
   "cell_type": "code",
   "execution_count": null,
   "id": "6356645c-c792-4139-b069-021f86897c98",
   "metadata": {},
   "outputs": [],
   "source": [
    "try:\n",
    "    import dl_cv_lectures\n",
    "\n",
    "    print(\"dl_cv_lectures installed, all good\")\n",
    "except ImportError as e:\n",
    "    import os\n",
    "\n",
    "    if Path(\"/workspace/code/src\").exists():\n",
    "        print(\"Installing from local repo\")\n",
    "        os.system(\"cd /workspace/code  && pip install .\")\n",
    "    else:\n",
    "        print(\"Installing from git repo\")\n",
    "        os.system(\"pip install git+https://github.com/marco-willi/cas-dl-compvis-exercises-hs2024\")"
   ]
  },
  {
   "cell_type": "markdown",
   "id": "6a39f0ad",
   "metadata": {
    "nbgrader": {
     "grade": false,
     "grade_id": "cell-3a483458ed52db13",
     "locked": true,
     "schema_version": 3,
     "solution": false,
     "task": false
    }
   },
   "source": [
    "# Library Imports"
   ]
  },
  {
   "cell_type": "markdown",
   "id": "7132d218",
   "metadata": {
    "nbgrader": {
     "grade": false,
     "grade_id": "cell-d2a618f47501694b",
     "locked": true,
     "schema_version": 3,
     "solution": false,
     "task": false
    }
   },
   "source": [
    "We load all necessary packages."
   ]
  },
  {
   "cell_type": "code",
   "execution_count": null,
   "id": "f3976723",
   "metadata": {
    "nbgrader": {
     "grade": false,
     "grade_id": "cell-1ac68923d511b944",
     "locked": true,
     "schema_version": 3,
     "solution": false,
     "task": false
    }
   },
   "outputs": [],
   "source": [
    "# Base packages\n",
    "import io\n",
    "import math\n",
    "import os\n",
    "import random\n",
    "from pathlib import Path\n",
    "from typing import Callable\n",
    "\n",
    "# third party packages\n",
    "import gdown\n",
    "import lightning as L\n",
    "import mlxtend\n",
    "import numpy as np\n",
    "import pandas as pd\n",
    "import ray\n",
    "import requests\n",
    "import seaborn\n",
    "import sklearn\n",
    "import tensorboard\n",
    "import torch\n",
    "import torchinfo\n",
    "import torchmetrics\n",
    "import torchshow as ts\n",
    "import torchvision\n",
    "import transformers\n",
    "import wandb\n",
    "from matplotlib import pyplot as plt\n",
    "from PIL import Image\n",
    "from tqdm.notebook import tqdm\n",
    "\n",
    "# local / course package\n",
    "import dl_cv_lectures"
   ]
  },
  {
   "cell_type": "markdown",
   "id": "3fa03a29",
   "metadata": {
    "nbgrader": {
     "grade": false,
     "grade_id": "cell-d1e6c78e31c003a2",
     "locked": true,
     "schema_version": 3,
     "solution": false,
     "task": false
    }
   },
   "source": [
    "## Test Some Operations\n",
    "\n",
    "Now we simply apply some of the packages that we imported.\n",
    "\n",
    "We also test data storage on your drive."
   ]
  },
  {
   "cell_type": "code",
   "execution_count": null,
   "id": "bdd92fca",
   "metadata": {
    "nbgrader": {
     "grade": false,
     "grade_id": "cell-bd359a00d31b051c",
     "locked": true,
     "schema_version": 3,
     "solution": false,
     "task": false
    }
   },
   "outputs": [],
   "source": [
    "url = \"https://github.com/pytorch/vision/blob/main/gallery/assets/dog2.jpg?raw=true\"\n",
    "r = requests.get(url, allow_redirects=True)\n",
    "image = Image.open(io.BytesIO(r.content))\n",
    "image"
   ]
  },
  {
   "cell_type": "markdown",
   "id": "f4955de0",
   "metadata": {
    "nbgrader": {
     "grade": false,
     "grade_id": "cell-d572ac3a61fd74ef",
     "locked": true,
     "schema_version": 3,
     "solution": false,
     "task": false
    }
   },
   "source": [
    "Now we save the image in `DATA_PATH`."
   ]
  },
  {
   "cell_type": "code",
   "execution_count": null,
   "id": "599fca1c",
   "metadata": {
    "nbgrader": {
     "grade": false,
     "grade_id": "cell-32ea3ea6236685e9",
     "locked": true,
     "schema_version": 3,
     "solution": false,
     "task": false
    }
   },
   "outputs": [],
   "source": [
    "image_path = DATA_PATH.joinpath(\"dog.png\")\n",
    "\n",
    "image.save(image_path)"
   ]
  },
  {
   "cell_type": "markdown",
   "id": "ad7b8e07",
   "metadata": {
    "nbgrader": {
     "grade": false,
     "grade_id": "cell-103eb00e7b6e75cc",
     "locked": true,
     "schema_version": 3,
     "solution": false,
     "task": false
    }
   },
   "source": [
    "Now we load the image and display it."
   ]
  },
  {
   "cell_type": "code",
   "execution_count": null,
   "id": "7149dcb3",
   "metadata": {
    "nbgrader": {
     "grade": false,
     "grade_id": "cell-feb275b6842b9b23",
     "locked": true,
     "schema_version": 3,
     "solution": false,
     "task": false
    }
   },
   "outputs": [],
   "source": [
    "from torchvision.io import read_image\n",
    "\n",
    "image = read_image(image_path)"
   ]
  },
  {
   "cell_type": "code",
   "execution_count": null,
   "id": "cc38ac3a",
   "metadata": {
    "nbgrader": {
     "grade": false,
     "grade_id": "cell-c8c07fe0a9fb7a0c",
     "locked": true,
     "schema_version": 3,
     "solution": false,
     "task": false
    }
   },
   "outputs": [],
   "source": [
    "from torchvision.transforms import functional as F\n",
    "\n",
    "F.to_pil_image(image)"
   ]
  },
  {
   "cell_type": "markdown",
   "id": "0326a9a0",
   "metadata": {
    "nbgrader": {
     "grade": false,
     "grade_id": "cell-a165f358db2e0cd5",
     "locked": true,
     "schema_version": 3,
     "solution": false,
     "task": false
    }
   },
   "source": [
    "# PyTorch Device Test\n",
    "\n",
    "Simple test. Depending on your hardware and/or the instance that you are using it should be GPU or CPU."
   ]
  },
  {
   "cell_type": "code",
   "execution_count": null,
   "id": "16ce41ed",
   "metadata": {
    "nbgrader": {
     "grade": false,
     "grade_id": "cell-9f442776b8eaebe3",
     "locked": true,
     "schema_version": 3,
     "solution": false,
     "task": false
    }
   },
   "outputs": [],
   "source": [
    "# setting device on GPU if available, else CPU\n",
    "device = torch.device(\"cuda\" if torch.cuda.is_available() else \"cpu\")\n",
    "print(\"Using device:\", device)\n",
    "print()\n",
    "\n",
    "# Additional Info when using cuda\n",
    "if device.type == \"cuda\":\n",
    "    print(torch.cuda.get_device_name(0))\n",
    "    print(\"Memory Usage:\")\n",
    "    print(\"Allocated:\", round(torch.cuda.memory_allocated(0) / 1024**3, 1), \"GB\")\n",
    "    print(\"Cached:   \", round(torch.cuda.memory_reserved(0) / 1024**3, 1), \"GB\")"
   ]
  }
 ],
 "metadata": {
  "kernelspec": {
   "display_name": "Python 3 (ipykernel)",
   "language": "python",
   "name": "python3"
  },
  "language_info": {
   "codemirror_mode": {
    "name": "ipython",
    "version": 3
   },
   "file_extension": ".py",
   "mimetype": "text/x-python",
   "name": "python",
   "nbconvert_exporter": "python",
   "pygments_lexer": "ipython3",
   "version": "3.11.9"
  },
  "vscode": {
   "interpreter": {
    "hash": "d4d1e4263499bec80672ea0156c357c1ee493ec2b1c70f0acce89fc37c4a6abe"
   }
  }
 },
 "nbformat": 4,
 "nbformat_minor": 5
}
